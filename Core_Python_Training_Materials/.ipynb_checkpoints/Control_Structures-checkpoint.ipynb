{
 "cells": [
  {
   "cell_type": "code",
   "execution_count": 2,
   "metadata": {},
   "outputs": [
    {
     "name": "stdout",
     "output_type": "stream",
     "text": [
      "Inside if\n"
     ]
    }
   ],
   "source": [
    "# if - elif - else\n",
    "if True:\n",
    "    print('Inside if')\n",
    "elif True:\n",
    "    print('Inside elif')\n",
    "else:\n",
    "    print('Inside else')"
   ]
  },
  {
   "cell_type": "code",
   "execution_count": 1,
   "metadata": {},
   "outputs": [
    {
     "name": "stdout",
     "output_type": "stream",
     "text": [
      "Inside second if\n"
     ]
    }
   ],
   "source": [
    "# if - if - else\n",
    "if False:\n",
    "    print('Inside first if')\n",
    "if True:\n",
    "    print('Inside second if')\n",
    "else:\n",
    "    print('Inside else')"
   ]
  },
  {
   "cell_type": "code",
   "execution_count": 3,
   "metadata": {
    "collapsed": true
   },
   "outputs": [],
   "source": [
    "# Ternary conditional - assignment based on a condition\n",
    "A1 = 't' if True else 'f'\n",
    "A2 = 't' if '' else 'f'"
   ]
  },
  {
   "cell_type": "code",
   "execution_count": 23,
   "metadata": {},
   "outputs": [
    {
     "name": "stdout",
     "output_type": "stream",
     "text": [
      "<  > 0\n",
      "float conversion is not successful\n"
     ]
    }
   ],
   "source": [
    "# None and empty values always evaluates to False\n",
    "import numpy\n",
    "if None:\n",
    "    print('checking for None')\n",
    "if '':\n",
    "    print('checking for empty string')\n",
    "if []:\n",
    "    print('checking for empty list')\n",
    "try :\n",
    "    a = float('hello')\n",
    "except:\n",
    "    if a == '':\n",
    "        print('<',a,'>',len(a))\n",
    "        print('float conversion is not successful')"
   ]
  },
  {
   "cell_type": "code",
   "execution_count": 5,
   "metadata": {},
   "outputs": [
    {
     "name": "stdout",
     "output_type": "stream",
     "text": [
      "list is empty\n"
     ]
    }
   ],
   "source": [
    "# negating the boolean test\n",
    "l1 = []\n",
    "if not l1: # to check if list is empty or not\n",
    "    print('list is empty')"
   ]
  },
  {
   "cell_type": "code",
   "execution_count": null,
   "metadata": {
    "collapsed": true
   },
   "outputs": [],
   "source": [
    "# checking for type \n",
    "if isinstance(a,str):\n",
    "    print('a is string')"
   ]
  },
  {
   "cell_type": "code",
   "execution_count": 30,
   "metadata": {},
   "outputs": [
    {
     "name": "stdout",
     "output_type": "stream",
     "text": [
      "number please:1\n",
      "1 is prime\n"
     ]
    }
   ],
   "source": [
    "# while loop - with an optional else\n",
    "# check if number is prime or composite\n",
    "y = int(input('number please:'))\n",
    "x = y // 2\n",
    "while x > 1:\n",
    "    if y % x == 0:\n",
    "        print(y, 'has factor', x)\n",
    "        break\n",
    "    x -= 1\n",
    "else:\n",
    "    print(y, 'is prime')"
   ]
  },
  {
   "cell_type": "code",
   "execution_count": 3,
   "metadata": {},
   "outputs": [
    {
     "name": "stdout",
     "output_type": "stream",
     "text": [
      "8 6 4 2 0 "
     ]
    }
   ],
   "source": [
    "# odd or even using continue\n",
    "x = 10\n",
    "while x:\n",
    "    x = x - 1 # Or, x -= 1\n",
    "    if x % 2 != 0: continue # Odd? -- skip print\n",
    "    print(x, end=' ')\n"
   ]
  },
  {
   "cell_type": "code",
   "execution_count": 4,
   "metadata": {},
   "outputs": [
    {
     "name": "stdout",
     "output_type": "stream",
     "text": [
      "1 2\n",
      "3 4\n",
      "5 6\n",
      "1 2 3\n",
      "4 5 6\n",
      "1 (2, 3) 4\n",
      "5 (6, 7) 8\n"
     ]
    },
    {
     "ename": "FileNotFoundError",
     "evalue": "[Errno 2] No such file or directory: 'test.txt'",
     "output_type": "error",
     "traceback": [
      "\u001b[1;31m---------------------------------------------------------------------------\u001b[0m",
      "\u001b[1;31mFileNotFoundError\u001b[0m                         Traceback (most recent call last)",
      "\u001b[1;32m<ipython-input-4-cf0fa21a5efa>\u001b[0m in \u001b[0;36m<module>\u001b[1;34m()\u001b[0m\n\u001b[0;32m     11\u001b[0m     \u001b[0mprint\u001b[0m\u001b[1;33m(\u001b[0m\u001b[0ma\u001b[0m\u001b[1;33m,\u001b[0m \u001b[0mb\u001b[0m\u001b[1;33m,\u001b[0m \u001b[0mc\u001b[0m\u001b[1;33m)\u001b[0m\u001b[1;33m\u001b[0m\u001b[0m\n\u001b[0;32m     12\u001b[0m \u001b[1;33m\u001b[0m\u001b[0m\n\u001b[1;32m---> 13\u001b[1;33m \u001b[1;32mfor\u001b[0m \u001b[0mline\u001b[0m \u001b[1;32min\u001b[0m \u001b[0mopen\u001b[0m\u001b[1;33m(\u001b[0m\u001b[1;34m'test.txt'\u001b[0m\u001b[1;33m)\u001b[0m\u001b[1;33m.\u001b[0m\u001b[0mreadlines\u001b[0m\u001b[1;33m(\u001b[0m\u001b[1;33m)\u001b[0m\u001b[1;33m:\u001b[0m\u001b[1;33m\u001b[0m\u001b[0m\n\u001b[0m\u001b[0;32m     14\u001b[0m     \u001b[0mprint\u001b[0m\u001b[1;33m(\u001b[0m\u001b[0mline\u001b[0m\u001b[1;33m.\u001b[0m\u001b[0mrstrip\u001b[0m\u001b[1;33m(\u001b[0m\u001b[1;33m)\u001b[0m\u001b[1;33m)\u001b[0m\u001b[1;33m\u001b[0m\u001b[0m\n\u001b[0;32m     15\u001b[0m \u001b[1;33m\u001b[0m\u001b[0m\n",
      "\u001b[1;31mFileNotFoundError\u001b[0m: [Errno 2] No such file or directory: 'test.txt'"
     ]
    }
   ],
   "source": [
    "# for loop : break,continue,pass & optional else\n",
    "T = [(1, 2), (3, 4), (5, 6)]\n",
    "for (a, b) in T: # Tuple assignment at work\n",
    "     print(a, b)\n",
    "\n",
    "for (a, b, c) in [(1, 2, 3), (4, 5, 6)]: # Used in for loop\n",
    "    print(a, b, c)\n",
    "\n",
    "for all in [(1, 2, 3, 4), (5, 6, 7, 8)]: # Manual slicing in 2.X\n",
    "    a, b, c = all[0], all[1:3], all[3]\n",
    "    print(a, b, c)\n",
    "\n",
    "for line in open('test.txt').readlines():\n",
    "    print(line.rstrip())\n",
    "\n",
    "S = 'Spam'\n",
    "for i in range(len(S)):\n",
    "    print (S[i])\n",
    "S = 'spam'"
   ]
  },
  {
   "cell_type": "code",
   "execution_count": 6,
   "metadata": {},
   "outputs": [
    {
     "name": "stdout",
     "output_type": "stream",
     "text": [
      "h appears at offset 0\n",
      "e appears at offset 1\n",
      "l appears at offset 2\n",
      "l appears at offset 3\n",
      "o appears at offset 4\n",
      "  appears at offset 5\n",
      "w appears at offset 6\n",
      "o appears at offset 7\n",
      "r appears at offset 8\n",
      "l appears at offset 9\n",
      "d appears at offset 10\n"
     ]
    },
    {
     "data": {
      "text/plain": [
       "['',\n",
       " 'e',\n",
       " 'll',\n",
       " 'lll',\n",
       " 'oooo',\n",
       " '     ',\n",
       " 'wwwwww',\n",
       " 'ooooooo',\n",
       " 'rrrrrrrr',\n",
       " 'lllllllll',\n",
       " 'dddddddddd']"
      ]
     },
     "execution_count": 6,
     "metadata": {},
     "output_type": "execute_result"
    }
   ],
   "source": [
    "# enumerate using for loop\n",
    "S = 'hello world'\n",
    "for (offset, item) in enumerate(S):\n",
    "    print(item, 'appears at offset', offset)\n",
    "\n",
    "[c * i for (i, c) in enumerate(S)]"
   ]
  },
  {
   "cell_type": "code",
   "execution_count": 1,
   "metadata": {},
   "outputs": [
    {
     "name": "stdout",
     "output_type": "stream",
     "text": [
      "1 + 5 -- 6\n",
      "2 + 6 -- 8\n",
      "3 + 7 -- 10\n",
      "4 + 8 -- 12\n"
     ]
    }
   ],
   "source": [
    "# arithmetic tables\n",
    "L1 = [1,2,3,4]\n",
    "L2 = [5,6,7,8]\n",
    "for (x, y) in list(zip(L1, L2)):\n",
    "    print(x,'+', y, '--', x + y)\n"
   ]
  },
  {
   "cell_type": "code",
   "execution_count": null,
   "metadata": {
    "collapsed": true
   },
   "outputs": [],
   "source": [
    "# nested for loop\n",
    "items = [\"aaa\", 111, (4, 5), 2.01] # A set of objects\n",
    "tests = [(4, 5), 3.14] # Keys to search for\n",
    "\n",
    "for key in tests: # For all keys\n",
    "    if item in items: # For all items\n",
    "        print(key, \"was found\")\n",
    "        break\n",
    "    else:\n",
    "        print(key, \"not found!\")"
   ]
  },
  {
   "cell_type": "code",
   "execution_count": 3,
   "metadata": {},
   "outputs": [
    {
     "name": "stdout",
     "output_type": "stream",
     "text": [
      "Second condition :a is True\n",
      "Third condition : b is None\n"
     ]
    }
   ],
   "source": [
    "# checking for boolean\n",
    "a = 'True'\n",
    "if a == True:\n",
    "    print('First condiction: a is True')\n",
    "a = True\n",
    "if a == True:\n",
    "    print('Second condition :a is True')\n",
    "b = None\n",
    "if b is None:\n",
    "    print('Third condition : b is None')"
   ]
  },
  {
   "cell_type": "code",
   "execution_count": null,
   "metadata": {
    "collapsed": true
   },
   "outputs": [],
   "source": [
    "# in-class exercise1 : input data validation\n",
    "inputString = input('*** Enter your name and age separated by colon ; let each pair be separated by comma *** : ')\n",
    "nameWithAgePairs = inputString.split(',')\n",
    "print(type(nameWithAgePairs))\n",
    "validationFailed = False\n",
    "while True:\n",
    "    for item in nameWithAgePairs:\n",
    "\n",
    "        name, age = item.split(':')\n",
    "        age = int(age)\n",
    "        print(name, age)\n",
    "        if (len(name) < 10 and name.isalpha() == True and age < 30):\n",
    "            print('Validation passed')\n",
    "\n",
    "        else:\n",
    "            validationFailed = True\n",
    "\n",
    "    if validationFailed:\n",
    "        print('One or many of your name and age pair has failed in validation. Try again with different input')\n",
    "        input('*** Enter your name and age separated by colon ; let each pair be separated by comma *** : ')\n",
    "        nameWithAgePairs = inputString.split(',')\n",
    "    else:\n",
    "        break"
   ]
  }
 ],
 "metadata": {
  "kernelspec": {
   "display_name": "Python 3",
   "language": "python",
   "name": "python3"
  },
  "language_info": {
   "codemirror_mode": {
    "name": "ipython",
    "version": 3
   },
   "file_extension": ".py",
   "mimetype": "text/x-python",
   "name": "python",
   "nbconvert_exporter": "python",
   "pygments_lexer": "ipython3",
   "version": "3.7.3"
  }
 },
 "nbformat": 4,
 "nbformat_minor": 2
}
