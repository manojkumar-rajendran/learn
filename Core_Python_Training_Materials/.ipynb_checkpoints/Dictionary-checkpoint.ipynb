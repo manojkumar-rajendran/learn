{
 "cells": [
  {
   "cell_type": "markdown",
   "metadata": {},
   "source": [
    "# Dictionary"
   ]
  },
  {
   "cell_type": "code",
   "execution_count": null,
   "metadata": {
    "collapsed": true
   },
   "outputs": [],
   "source": [
    "# it's a mapping - similar to RF id tag or the employee tag\n",
    "# denoted by curly braces\n",
    "# RANDOMLY ORDERED COLLECTION"
   ]
  },
  {
   "cell_type": "code",
   "execution_count": null,
   "metadata": {
    "collapsed": true
   },
   "outputs": [],
   "source": [
    "# initializing a dictionary...\n",
    "D1 = {}\n",
    "D1 = {1:'value1',2:'value2'}\n",
    "\n",
    "# or using dict function\n",
    "# using dict,only string keys are possible, you can't give an expression\n",
    "D2 = dict(key1='value1',key2='value2') \n",
    "var = 1\n",
    "D2 = dict(var='value1')\n",
    "\n",
    "# or use indexing to update a dictionary\n",
    "D4 = {}\n",
    "D4[2] = 3 # it needs a  declaration because Python is dynamically typed and it doesn't know whether you are accessing a list or dictionary\n",
    "\n",
    "# or by using a zip function\n",
    "D5 = dict(zip([1,2,3],[4,5,6]))\n",
    "\n",
    "# nesting is possible\n",
    "emp = {'name': {'first':'firstname','last':'lastname'},\n",
    "       'jobs': ['developer','manager'],\n",
    "       'age':32}"
   ]
  },
  {
   "cell_type": "code",
   "execution_count": null,
   "metadata": {
    "collapsed": true
   },
   "outputs": [],
   "source": [
    "# accessing a  key not present throws an error\n",
    "D4[4] = 1\n",
    "D4[4] += 1"
   ]
  },
  {
   "cell_type": "code",
   "execution_count": null,
   "metadata": {
    "collapsed": true
   },
   "outputs": [],
   "source": [
    "# using built-in functions\n",
    "D4,len(D4), sum(D4), max(D4), min(D4)  # implicitly refers to keys of dictionary\n",
    "# type-casting functions\n",
    "list(D4), set(D4), str(D4), tuple(D4)"
   ]
  },
  {
   "cell_type": "code",
   "execution_count": null,
   "metadata": {
    "collapsed": true
   },
   "outputs": [],
   "source": [
    "# sequence operations not permitted :  D4 * 3, D4[0:2], D4 + D5\n",
    "# key existence test : membership test however works since it implicitly refers to keys method - \n",
    "2 in D1\n",
    "# however, by converting to a list , sequence operations are possible\n",
    "D4, D2\n",
    "# concatenating two dictionaries - an alternative\n",
    "D6 = dict(zip( \n",
    "                ( \n",
    "                    list(D4) + list(D2) \n",
    "                ), \n",
    "                ( \n",
    "                    list( D4.values() ) + list( D2.values() ) \n",
    "                )\n",
    "             )\n",
    "         )"
   ]
  },
  {
   "cell_type": "markdown",
   "metadata": {},
   "source": [
    "#### Object specific attributes"
   ]
  },
  {
   "cell_type": "code",
   "execution_count": null,
   "metadata": {
    "collapsed": true
   },
   "outputs": [],
   "source": [
    "print(dir(D4))\n",
    "\n",
    "# in-class exercise 1 : use list comprehension to ignore __ values\n",
    "\n",
    "\n",
    "D3.clear() # clears the dictionary\n",
    "D4_copy = D4.copy() # copies the entire dictionary\n",
    "# contrast this with creating a reference\n",
    "D4_ref = D4\n",
    "D4_ref[4] =  D4_ref[4] / D4_ref[4]"
   ]
  },
  {
   "cell_type": "code",
   "execution_count": null,
   "metadata": {
    "collapsed": true
   },
   "outputs": [],
   "source": [
    "# fromkeys method accepts a sequence\n",
    "seq = ('name', 'age', 'height')\n",
    "D6 = dict.fromkeys(seq)\n",
    "seq = (('name', 'age'), ('weight','height')) \n",
    "D7 = dict(seq)"
   ]
  },
  {
   "cell_type": "code",
   "execution_count": null,
   "metadata": {
    "collapsed": true
   },
   "outputs": [],
   "source": [
    "# update method accepts only a dictionary\n",
    "D8 = {\"house\":\"Haus\",\"cat\":\"Katze\",\"red\":\"rot\"}\n",
    "D9 = {\"red\":\"rouge\",\"blau\":\"bleu\"}\n",
    "D8.update(D9)\n",
    "D8.update({'cat': 'tac'})"
   ]
  },
  {
   "cell_type": "code",
   "execution_count": null,
   "metadata": {
    "collapsed": true
   },
   "outputs": [],
   "source": [
    "# Merging two dictionaries - changing original will not affect merged\n",
    "\n",
    "a = {'x': 1, 'z': 3 }\n",
    "b = {'y': 2, 'z': 4 }\n",
    "\n",
    "merged = dict(b)\n",
    "merged.update(a)\n",
    "\n",
    "# Merging two dictionaries - changing original will affect merged\n",
    "\n",
    "from collections import ChainMap\n",
    "merged = ChainMap(a, b)\n",
    "merged['x']\n",
    "a['x'] = 42\n",
    "merged['x']"
   ]
  },
  {
   "cell_type": "code",
   "execution_count": null,
   "metadata": {
    "collapsed": true
   },
   "outputs": [],
   "source": [
    "# get method\n",
    "print(D4.get('dog', 'Bad choice'))\n",
    "# equivalent of try-catch\n",
    "try:\n",
    "  print(D4['dog'])\n",
    "except KeyError:\n",
    "  print('Bad choice')"
   ]
  },
  {
   "cell_type": "markdown",
   "metadata": {},
   "source": [
    "##### clear removes all key and value pairs\n",
    "##### copy copies a dictionary and returns a new dictionary object\n",
    "##### pop accepts a key and removes the key value pair\n",
    "##### popitem accepts a key value pair and removes it\n",
    "##### setdefault assigns a value to a key if not found , returns a value for key if found"
   ]
  },
  {
   "cell_type": "markdown",
   "metadata": {},
   "source": [
    "#### Dictionary comprehension"
   ]
  },
  {
   "cell_type": "code",
   "execution_count": null,
   "metadata": {
    "collapsed": true
   },
   "outputs": [],
   "source": [
    "D10 = {x: x**2 for x in range(5)}\n",
    "D11 = {y: True for y in range(5)}"
   ]
  },
  {
   "cell_type": "markdown",
   "metadata": {},
   "source": [
    "#### collections - OrderedDict and DefaultDict"
   ]
  },
  {
   "cell_type": "code",
   "execution_count": null,
   "metadata": {
    "collapsed": true
   },
   "outputs": [],
   "source": [
    "# OrderedDict to track the insertion order\n",
    "# comparing 2 regular dictionaries vs comparing 2 OrderedDict works differnetly\n",
    "# useful in 2.x releases, since ordering is guarentted in 3.6\n",
    "# useful in all versions to export to json\n",
    "# incurs extra memory due to its internal implementation of doubly-linked list\n",
    "\n",
    "ord_dict1 = OrderedDict({'watch':'electronic','table':'wooden','note':'paper'})\n",
    "unord_dict1 = {'watch':'electronic','table':'wooden','note':'paper'}\n",
    "\n",
    "ord_dict1['laptop'] = 'electronic'\n",
    "unord_dict1['laptop'] = 'electronic'\n",
    "\n",
    "ord_dict2 = ord_dict1.copy()\n",
    "unord_dict2 = unord_dict1.copy()\n",
    "\n",
    "unord_dict2.pop('watch')\n",
    "unord_dict2['watch'] = 'electronic'\n",
    "\n",
    "unord_dict1 == unord_dict2\n",
    "\n",
    "ord_dict2.pop('watch')\n",
    "ord_dict2['watch'] = 'electronic'\n",
    "\n",
    "ord_dict1 == ord_dict2"
   ]
  },
  {
   "cell_type": "code",
   "execution_count": null,
   "metadata": {
    "collapsed": true
   },
   "outputs": [],
   "source": [
    "# defaultDict - a cleaner way to create a key with list of values\n",
    "\n",
    "# clumsy way\n",
    "d = {}\n",
    "for key, value in pairs:\n",
    "    if key not in d:\n",
    "        d[key] = [value]\n",
    "    d[key].append(value)\n",
    "\n",
    "# cleaner way\n",
    "d = defaultdict(list)\n",
    "pairs = [(1,2),(1,4),(3,5),(3,7),(4,6)]\n",
    "for key, value in pairs:\n",
    "    d[key].append(value)"
   ]
  },
  {
   "cell_type": "markdown",
   "metadata": {},
   "source": [
    "#### comparing dictionaries"
   ]
  },
  {
   "cell_type": "code",
   "execution_count": null,
   "metadata": {
    "collapsed": true
   },
   "outputs": [],
   "source": [
    "# Find keys in common\n",
    "a.keys() & b.keys()\n",
    "\n",
    "# Find keys in a that are not in b\n",
    "a.keys() - b.keys()\n",
    "\n",
    "# Find (key,value) pairs in common\n",
    "a.items() & b.items()\n",
    "\n",
    "a.keys() | b.keys()"
   ]
  },
  {
   "cell_type": "code",
   "execution_count": null,
   "metadata": {
    "collapsed": true
   },
   "outputs": [],
   "source": [
    "# in-class exericise : rank order students score\n",
    "\n",
    "import os\n",
    "path = r'D:\\PyCharmProjects\\Input data'\n",
    "input_file = open(path + '\\\\' + 'student-details.txt')\n",
    "student_dets = input_file.readlines()\n",
    "student_dets = [item.strip() for item in student_dets]\n",
    "student_dets = student_dets[1:]\n",
    "scores = [item.split(',')[0] for item in student_dets]\n",
    "scores = [int(item) for item in scores]\n",
    "scores_with_dets = {}\n",
    "for item in student_dets:\n",
    "    score,id_value,name = int(item.split(',')[0]),item.split(',')[1],item.split(',')[2]\n",
    "    details = '{} and {}'.format(id_value,name)\n",
    "    if score in scores_with_dets.keys():\n",
    "        scores_with_dets[score].append(details)\n",
    "    else:\n",
    "        scores_with_dets[score] = [details]\n",
    "scores = list(set(scores))\n",
    "scores.sort(reverse=True)\n",
    "for score_value in scores :\n",
    "    if score_value in scores_with_dets.keys():\n",
    "        details = str(scores_with_dets[score_value])\n",
    "        details = details.replace('[','').replace(']','')\n",
    "        print('Score is {} and their details are {}'.format (score_value,details))"
   ]
  },
  {
   "cell_type": "code",
   "execution_count": null,
   "metadata": {
    "collapsed": true
   },
   "outputs": [],
   "source": [
    "# in-class exercise : updating the aadhar database with new citizens\n",
    "\n",
    "aadhar_new_file = open(path+'\\\\'+'aadhar_new.txt','r')\n",
    "aadhar_new = [line.strip() for line in aadhar_new_file.readlines()]\n",
    "ids = [item.split(',')[0] for item in aadhar_new]\n",
    "aadhar_new_file.close()\n",
    "aadhar_new_file = open(path+'\\\\'+'aadhar_new.txt','a')\n",
    "\n",
    "\n",
    "\n",
    "while True:\n",
    "    id_value = input('Enter the id to append :')\n",
    "    if id_value == 'stop':\n",
    "        break\n",
    "    if id_value.isdigit() == True:\n",
    "        id_value = int(id_value)\n",
    "    try :\n",
    "        if id_value in ids:\n",
    "            print(id_value,'is already present. Try again')\n",
    "            continue\n",
    "        if type(id_value) == type(1):\n",
    "            name, yob = input('Enter the name and yob as input sepearted by comma').split(',')\n",
    "            if len(yob.split('/')) == 3:\n",
    "                dd,mm,yyyy = yob.split('/')\n",
    "            else:\n",
    "                print('Invalid date format')\n",
    "                continue\n",
    "            if name.isalpha() is True and len(dd) == 2 and len(mm) == 2 and len(yyyy) == 4:\n",
    "                if dd.isdigit() == True and mm.isdigit() == True and yyyy.isdigit() == True:\n",
    "                    print('All validation passed')\n",
    "                    aadhar_new_file.write(str(id_value)+','+name+','+yob+'\\n')\n",
    "            else:\n",
    "                print('One of validations failed')\n",
    "        else:\n",
    "            print(id_value,'is not an integer. Try again')\n",
    "    except Exception as e:\n",
    "        print(e)\n",
    "        print('Data entered is in wrong format. Try again')\n",
    "    finally:\n",
    "        aadhar_new_file.close()"
   ]
  },
  {
   "cell_type": "code",
   "execution_count": null,
   "metadata": {
    "collapsed": true
   },
   "outputs": [],
   "source": [
    "# in-class exercise : statistical Mean,median and mode of a data set\n",
    "\n",
    "dir = r'C:\\Users\\Manojkumar.Rajendran\\Desktop\\Inputs'\n",
    "datasetFile = open(dir+'\\\\'+'dataset-1.txt','r')\n",
    "while True:\n",
    "    line = datasetFile.readline()\n",
    "    if not line:\n",
    "        print(type(line))\n",
    "        break\n",
    "    else :\n",
    "        dataset = line.split(' ')\n",
    "dataset = [int(x) for x in dataset]\n",
    "print ('Dataset : ',dataset)\n",
    "# Mean\n",
    "SumOfNos = sum(dataset)\n",
    "Length = len(dataset)\n",
    "Mean = SumOfNos / Length\n",
    "print(int(Mean))\n",
    "# Median\n",
    "print('Median is',dataset[int(len(dataset)/2)])\n",
    "# Mode\n",
    "freq = {}\n",
    "for item in dataset:\n",
    "    # print(freq[item])\n",
    "    if item not in freq.keys():\n",
    "        freq[item] = 1\n",
    "    else :\n",
    "        freq[item] = freq[item] + 1\n",
    "print (freq)\n",
    "for item,frequency in freq.items():\n",
    "    if frequency == max(list(freq.values())):\n",
    "        print ('Mode is :',item)"
   ]
  }
 ],
 "metadata": {
  "kernelspec": {
   "display_name": "Python 3",
   "language": "python",
   "name": "python3"
  },
  "language_info": {
   "codemirror_mode": {
    "name": "ipython",
    "version": 3
   },
   "file_extension": ".py",
   "mimetype": "text/x-python",
   "name": "python",
   "nbconvert_exporter": "python",
   "pygments_lexer": "ipython3",
   "version": "3.7.3"
  }
 },
 "nbformat": 4,
 "nbformat_minor": 2
}
