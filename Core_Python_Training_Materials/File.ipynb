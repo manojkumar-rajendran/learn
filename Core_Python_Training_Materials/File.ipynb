{
 "cells": [
  {
   "cell_type": "markdown",
   "metadata": {},
   "source": [
    "# File"
   ]
  },
  {
   "cell_type": "code",
   "execution_count": 1,
   "metadata": {
    "collapsed": true
   },
   "outputs": [],
   "source": [
    "# another way to open file\n",
    "import os\n",
    "# get parent directory\n",
    "parentdir = os.path.dirname(os.path.abspath(os.getcwd()))\n",
    "# join two directories - efficient way vs concatenating two path\n",
    "path = os.path.join(parentdir,'Input data')\n",
    "\n",
    "# yet another way to open file\n",
    "from pathlib import WindowsPath\n",
    "path = WindowsPath(r'D:\\PyCharmProjects\\Input data')\n",
    "input_file = open(path / 'aadhar.txt')"
   ]
  },
  {
   "cell_type": "markdown",
   "metadata": {},
   "source": [
    "## compare 2 files"
   ]
  },
  {
   "cell_type": "code",
   "execution_count": 4,
   "metadata": {
    "collapsed": true
   },
   "outputs": [],
   "source": [
    "from pathlib import WindowsPath\n",
    "path = WindowsPath(r'D:\\PyCharmProjects\\Input data')\n",
    "input_file = open(path / 'aadhar.txt')\n",
    "# emp1_file = open(os.path.join(path,'employees1.txt'))\n",
    "# emp2_file = open(os.path.join(path,'employees2.txt'))"
   ]
  },
  {
   "cell_type": "code",
   "execution_count": null,
   "metadata": {
    "collapsed": true
   },
   "outputs": [],
   "source": [
    "emp1 = [line.strip() for line in emp1_file.readlines()]\n"
   ]
  },
  {
   "cell_type": "code",
   "execution_count": null,
   "metadata": {
    "collapsed": true
   },
   "outputs": [],
   "source": [
    "emp2 = [line.strip() for line in emp2_file.readlines()]"
   ]
  },
  {
   "cell_type": "code",
   "execution_count": null,
   "metadata": {
    "collapsed": true
   },
   "outputs": [],
   "source": [
    "S1 = set(emp1[1:])"
   ]
  },
  {
   "cell_type": "code",
   "execution_count": null,
   "metadata": {
    "collapsed": true
   },
   "outputs": [],
   "source": [
    "S2 = set(emp2[1:])"
   ]
  },
  {
   "cell_type": "code",
   "execution_count": null,
   "metadata": {
    "collapsed": true
   },
   "outputs": [],
   "source": [
    "# differences and similarities\n",
    "S1-S2,S1|S2,S1&S2,S1.symmetric_difference(S2)"
   ]
  },
  {
   "cell_type": "code",
   "execution_count": 106,
   "metadata": {},
   "outputs": [
    {
     "name": "stdout",
     "output_type": "stream",
     "text": [
      "['_CHUNK_SIZE', '__class__', '__del__', '__delattr__', '__dict__', '__dir__', '__doc__', '__enter__', '__eq__', '__exit__', '__format__', '__ge__', '__getattribute__', '__getstate__', '__gt__', '__hash__', '__init__', '__init_subclass__', '__iter__', '__le__', '__lt__', '__ne__', '__new__', '__next__', '__reduce__', '__reduce_ex__', '__repr__', '__setattr__', '__sizeof__', '__str__', '__subclasshook__', '_checkClosed', '_checkReadable', '_checkSeekable', '_checkWritable', '_finalizing', 'buffer', 'close', 'closed', 'detach', 'encoding', 'errors', 'fileno', 'flush', 'isatty', 'line_buffering', 'mode', 'name', 'newlines', 'read', 'readable', 'readline', 'readlines', 'seek', 'seekable', 'tell', 'truncate', 'writable', 'write', 'writelines']\n"
     ]
    }
   ],
   "source": [
    "# object specific attributes\n",
    "print(dir(emp1_file))"
   ]
  },
  {
   "cell_type": "code",
   "execution_count": 110,
   "metadata": {},
   "outputs": [
    {
     "data": {
      "text/plain": [
       "<_io.BufferedReader name='D:\\\\PyCharmProjects\\\\Input data\\\\employees1.txt'>"
      ]
     },
     "execution_count": 110,
     "metadata": {},
     "output_type": "execute_result"
    }
   ],
   "source": [
    "# returns True if file is closed\n",
    "emp1_file.closed\n",
    "# prints the mode \n",
    "emp1_file.mode\n",
    "# prints the name of file\n",
    "emp1_file.name\n",
    "emp1_file.buffer\n",
    "# prints the file descriptor of a file\n",
    "emp1_file.fileno()\n",
    "# Return True if the stream is interactive (i.e., connected to a terminal/tty device).\n",
    "emp1_file.isatty()\n",
    "# Return True if the stream can be read from. If False, read() will raise OSError.\n",
    "emp1_file.readable()"
   ]
  },
  {
   "cell_type": "code",
   "execution_count": 111,
   "metadata": {},
   "outputs": [
    {
     "data": {
      "text/plain": [
       "'id,name,de'"
      ]
     },
     "execution_count": 111,
     "metadata": {},
     "output_type": "execute_result"
    }
   ],
   "source": [
    "# check if file is corrupt or not\n",
    "emp1_file.read(10)"
   ]
  },
  {
   "cell_type": "code",
   "execution_count": 114,
   "metadata": {},
   "outputs": [
    {
     "data": {
      "text/plain": [
       "0"
      ]
     },
     "execution_count": 114,
     "metadata": {},
     "output_type": "execute_result"
    }
   ],
   "source": [
    "# returns the current position\n",
    "emp1_file.tell()"
   ]
  },
  {
   "cell_type": "code",
   "execution_count": 113,
   "metadata": {},
   "outputs": [
    {
     "data": {
      "text/plain": [
       "0"
      ]
     },
     "execution_count": 113,
     "metadata": {},
     "output_type": "execute_result"
    }
   ],
   "source": [
    "# repositions the file pointer @ beginning\n",
    "# first argument is the offset\n",
    "emp1_file.seek(0,0)\n",
    "# repositions the file pointer @ end\n",
    "emp1_file.seek(2,2)\n",
    "# from the current position\n",
    "emp1_file.seek(5,1)"
   ]
  },
  {
   "cell_type": "code",
   "execution_count": 116,
   "metadata": {
    "collapsed": true
   },
   "outputs": [],
   "source": [
    "emp1_file.close()"
   ]
  },
  {
   "cell_type": "code",
   "execution_count": 117,
   "metadata": {
    "collapsed": true
   },
   "outputs": [],
   "source": [
    "# renaming files - ** not possible when file is currently being read **\n",
    "os.rename(emp1_file.name,'employees_1.txt')"
   ]
  },
  {
   "cell_type": "code",
   "execution_count": 118,
   "metadata": {},
   "outputs": [
    {
     "data": {
      "text/plain": [
       "'D:\\\\PyCharmProjects\\\\Input data\\\\employees1.txt'"
      ]
     },
     "execution_count": 118,
     "metadata": {},
     "output_type": "execute_result"
    }
   ],
   "source": [
    "# deleting files\n",
    "os.remove(emp1_file.name)"
   ]
  },
  {
   "cell_type": "code",
   "execution_count": 120,
   "metadata": {},
   "outputs": [
    {
     "data": {
      "text/plain": [
       "'file_copy.txt'"
      ]
     },
     "execution_count": 120,
     "metadata": {},
     "output_type": "execute_result"
    }
   ],
   "source": [
    "# copying file\n",
    "import shutil\n",
    "shutil.copy(emp1_file.name,'file_copy.txt')"
   ]
  },
  {
   "cell_type": "code",
   "execution_count": 153,
   "metadata": {
    "collapsed": true
   },
   "outputs": [],
   "source": [
    "# open a file both for reading & writing\n",
    "emp1_file_rw = open(os.path.join(path,'employees1.txt'),'r+')"
   ]
  },
  {
   "cell_type": "code",
   "execution_count": 142,
   "metadata": {
    "collapsed": true
   },
   "outputs": [],
   "source": [
    "lines = emp1_file_rw.readlines()"
   ]
  },
  {
   "cell_type": "code",
   "execution_count": 143,
   "metadata": {
    "collapsed": true
   },
   "outputs": [],
   "source": [
    "for item in lines:\n",
    "    emp1_file_rw.write(item)"
   ]
  },
  {
   "cell_type": "code",
   "execution_count": 145,
   "metadata": {
    "collapsed": true
   },
   "outputs": [],
   "source": [
    "emp1_file_rw.flush() # writes the buffer to disk"
   ]
  },
  {
   "cell_type": "code",
   "execution_count": 146,
   "metadata": {
    "collapsed": true
   },
   "outputs": [],
   "source": [
    "emp1_file_rw.close() # writes the buffer to disk and closes the file"
   ]
  },
  {
   "cell_type": "code",
   "execution_count": 155,
   "metadata": {},
   "outputs": [
    {
     "data": {
      "text/plain": [
       "str"
      ]
     },
     "execution_count": 155,
     "metadata": {},
     "output_type": "execute_result"
    }
   ],
   "source": [
    "# read() vs readline() vs readlines()\n",
    "contents = emp1_file_rw.read() # read globs the entire file as string\n",
    "contents.split('\\n')"
   ]
  },
  {
   "cell_type": "code",
   "execution_count": null,
   "metadata": {
    "collapsed": true
   },
   "outputs": [],
   "source": [
    "# readline() to read file line by line\n",
    "while True:\n",
    "    line = f.readline().strip()\n",
    "    print(line)\n",
    "    if not line: break\n",
    "# readlines() converts the entire file to a list\n",
    "f = open('log.txt')\n",
    "contents = [item.strip() for item in f.readlines()]\n",
    "print(contents)\n"
   ]
  },
  {
   "cell_type": "code",
   "execution_count": 156,
   "metadata": {},
   "outputs": [
    {
     "data": {
      "text/plain": [
       "6"
      ]
     },
     "execution_count": 156,
     "metadata": {},
     "output_type": "execute_result"
    }
   ],
   "source": [
    "# write method\n",
    "emp1_file_rw.write('hello\\n')"
   ]
  },
  {
   "cell_type": "code",
   "execution_count": 157,
   "metadata": {
    "collapsed": true
   },
   "outputs": [],
   "source": [
    "emp1_file_rw.flush()"
   ]
  },
  {
   "cell_type": "code",
   "execution_count": null,
   "metadata": {
    "collapsed": true
   },
   "outputs": [],
   "source": [
    "# another way to write to file\n",
    "log = open('log.txt', 'w')\n",
    "print(1, 2, 3, file=log)\n",
    "print(4, 5, 6, file=log)\n",
    "log.close()\n",
    "\n"
   ]
  },
  {
   "cell_type": "code",
   "execution_count": null,
   "metadata": {
    "collapsed": true
   },
   "outputs": [],
   "source": [
    "# writelines to write a sequence to a file\n",
    "f = open ('log.txt','w')\n",
    "numbers = list(range(0,100))\n",
    "numbers = [str(item) for item in numbers]\n",
    "numbers = [item + '\\n' for item in numbers]\n",
    "f.writelines(numbers)\n"
   ]
  },
  {
   "cell_type": "markdown",
   "metadata": {},
   "source": [
    "### \"with open\" for a cleaner way to handle system resources"
   ]
  },
  {
   "cell_type": "code",
   "execution_count": null,
   "metadata": {
    "collapsed": true
   },
   "outputs": [],
   "source": [
    "# with open automatically flushes the buffer and closes the file for you even in case of exceptions\n",
    "# with statement is akin to using try/finally block\n",
    "# with construct is often called a CONTEXT MANAGER - context in programming represents your environment where you are operating\n",
    "\n",
    "with open(\"test.txt\", \"a\") as myfile:\n",
    "    myfile.write(\"appended text\")"
   ]
  },
  {
   "cell_type": "code",
   "execution_count": null,
   "metadata": {
    "collapsed": true
   },
   "outputs": [],
   "source": [
    "## get to know differences in two files\n",
    "dir = r'C:\\Users\\Manojkumar.Rajendran\\Desktop'\n",
    "dir = dir.replace('\\\\','\\\\\\\\')\n",
    "OLD = dir + '\\\\' + 'callDataSTM-Encrypted-old.csv'\n",
    "NEW = dir + '\\\\' + 'callDataSTM-Encrypted.csv'\n",
    "DIFF = dir + '\\\\' + 'differences'\n",
    "with open(OLD, 'r') as t1, open(NEW, 'r') as t2:\n",
    "    fileone = t1.readlines()\n",
    "    filetwo = t2.readlines()\n",
    "\n",
    "with open(DIFF, 'w') as outFile:\n",
    "    for line in filetwo:\n",
    "        if line not in fileone:\n",
    "            print (line)\n",
    "            outFile.write(line)"
   ]
  }
 ],
 "metadata": {
  "kernelspec": {
   "display_name": "Python 3",
   "language": "python",
   "name": "python3"
  },
  "language_info": {
   "codemirror_mode": {
    "name": "ipython",
    "version": 3
   },
   "file_extension": ".py",
   "mimetype": "text/x-python",
   "name": "python",
   "nbconvert_exporter": "python",
   "pygments_lexer": "ipython3",
   "version": "3.6.3"
  }
 },
 "nbformat": 4,
 "nbformat_minor": 2
}
