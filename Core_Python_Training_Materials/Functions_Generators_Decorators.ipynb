{
 "cells": [
  {
   "cell_type": "code",
   "execution_count": null,
   "metadata": {
    "collapsed": true
   },
   "outputs": [],
   "source": [
    "# a function is a resuable block of code\n",
    "# a function accepts an input, produces an output\n",
    "# a function is called with parameters ; function is defined with arguments ; number of parameters should match arguments\n",
    "# by default, it implicitly returns None when there is no explicit return statement\n",
    "# return value can be optionally specified by return statement\n",
    "# function can have an optional docstring for briefly explaining about the function's usage"
   ]
  },
  {
   "cell_type": "code",
   "execution_count": 26,
   "metadata": {},
   "outputs": [
    {
     "name": "stdout",
     "output_type": "stream",
     "text": [
      "2018-05-05 23:20:26.817949|hello world\n",
      "2018-05-05 23:20:26.818950|hello world\n",
      "None\n"
     ]
    }
   ],
   "source": [
    "import datetime\n",
    "import sys\n",
    "def display(message):\n",
    "    print(str(datetime.datetime.now())+'|'+message)\n",
    "display('hello world')\n",
    "print(display('hello world'))"
   ]
  },
  {
   "cell_type": "code",
   "execution_count": 28,
   "metadata": {},
   "outputs": [
    {
     "name": "stdout",
     "output_type": "stream",
     "text": [
      "1.0\n",
      "1.0\n"
     ]
    }
   ],
   "source": [
    "def divide(a,b):\n",
    "    import traceback\n",
    "    try:\n",
    "        c = a/b\n",
    "    except:\n",
    "        print(traceback.print_exc())\n",
    "    finally:\n",
    "        print (c)\n",
    "    return c\n",
    "c = divide(10,10)\n",
    "print(c)"
   ]
  },
  {
   "cell_type": "code",
   "execution_count": null,
   "metadata": {
    "collapsed": true
   },
   "outputs": [],
   "source": [
    "# polymorphism in functions - depending on objects being passed, function behaves differently\n",
    "def times (x,y):\n",
    "    return x * y\n",
    "times('hello',3)\n",
    "times(4,7)"
   ]
  },
  {
   "cell_type": "markdown",
   "metadata": {},
   "source": [
    "### arguments and parameters"
   ]
  },
  {
   "cell_type": "code",
   "execution_count": 1,
   "metadata": {},
   "outputs": [
    {
     "name": "stdout",
     "output_type": "stream",
     "text": [
      "<class 'dict'>\n",
      "The value of name_1 is Alex\n",
      "The value of name_2 is Gray\n",
      "The value of name_3 is Harper\n",
      "The value of name_4 is Phoenix\n",
      "The value of name_5 is Remy\n",
      "The value of name_6 is Val\n"
     ]
    }
   ],
   "source": [
    "def add(a,b=1):\n",
    "    print (a+b)\n",
    "add(1)\n",
    "add(a=1,b=2)\n",
    "add(1,3)\n",
    "\n",
    "# use of *args - when you don't know the exact number of arguments being passed\n",
    "def plus(*args): # gets the arguments as a list ; better avoid naming the function as builtin functions\n",
    "    total = 0\n",
    "    print(type(args))\n",
    "    for i in args:\n",
    "        total += i\n",
    "    return total\n",
    "# Calculate the sum\n",
    "# plus(20,30,40,50)\n",
    "\n",
    "# use of **kwargs\n",
    "def print_values(**kwargs):\n",
    "# def print_values(name_1,**kwargs):\n",
    "# def print_values(name_1,name_2,name_3,name_4,name_5,name_6): #number of keyword arguments should match\n",
    "    print(type(kwargs))\n",
    "    for key, value in kwargs.items():\n",
    "        print(\"The value of {} is {}\".format(key, value))\n",
    "\n",
    "names = dict(name_1=\"Alex\",\n",
    "            name_2=\"Gray\",\n",
    "            name_3=\"Harper\",\n",
    "            name_4=\"Phoenix\",\n",
    "            name_5=\"Remy\",\n",
    "            name_6=\"Val\")\n",
    "print_values(**names)"
   ]
  },
  {
   "cell_type": "markdown",
   "metadata": {},
   "source": [
    "### pass by reference vs pass by value"
   ]
  },
  {
   "cell_type": "code",
   "execution_count": 41,
   "metadata": {},
   "outputs": [
    {
     "name": "stdout",
     "output_type": "stream",
     "text": [
      "Values inside the function:  [10, 20, 30, 1, 2]\n",
      "Values outside the function:  [10, 20, 30, 1, 2]\n",
      "Values inside the function:  [10, 20, 30, 1, 2]\n",
      "Values outside the function:  [10, 20, 30]\n"
     ]
    }
   ],
   "source": [
    "# pass by reference\n",
    "def pass_by_reference( numbers ):\n",
    "    \"\"\" mutable objects \"\"\"\n",
    "    if isinstance(numbers,list):\n",
    "        numbers.extend((1,2))\n",
    "    if isinstance(numbers,dict):\n",
    "        numbers.update({'k2':'v2'})\n",
    "    \"\"\" immutable objects \"\"\"\n",
    "    if isinstance(numbers,str):\n",
    "        numbers = 'Hello'\n",
    "    print (\"Values inside the function: \", numbers)\n",
    "\n",
    "numbers = [10,20,30]\n",
    "pass_by_reference( numbers )\n",
    "print (\"Values outside the function: \", numbers)\n",
    "numbers = {'k1':'v1'}\n",
    "pass_by_reference( numbers )\n",
    "print (\"Values outside the function: \", numbers)\n",
    "numbers = 'hello'\n",
    "pass_by_reference( numbers )\n",
    "print (\"Values outside the function: \", numbers)\n",
    "\n",
    "# pass by value\n",
    "def pass_by_value( numbers ):\n",
    "    numbers.extend((1,2))\n",
    "    print (\"Values inside the function: \", numbers)\n",
    "\n",
    "numbers = [10,20,30]\n",
    "pass_by_value( numbers.copy() )\n",
    "print (\"Values outside the function: \", numbers)"
   ]
  },
  {
   "cell_type": "code",
   "execution_count": null,
   "metadata": {
    "collapsed": true
   },
   "outputs": [],
   "source": [
    "# Use of global and local scope\n",
    "def local_function():\n",
    "    global_num = 120\n",
    "    global_string = 'world'\n",
    "    global_boolean = False\n",
    "    global_list.extend(list(range(10)))\n",
    "    global_dict.update(dict(zip(global_list + list(range(5,10)),global_list + list(range(11,16)))))\n",
    "    global_tuple = (5,6,7)\n",
    "    global_set = {5,6,7,8}\n",
    "    print('Local Scope',locals())\n",
    "\n",
    "global_num = 100\n",
    "global_boolean = True\n",
    "global_string = 'hello'\n",
    "global_list = [1,2,3]\n",
    "global_dict = {-1:-2,-3:-4}\n",
    "global_tuple = (1,2,3)\n",
    "global_set = {1,2,3,4}\n",
    "print('Before function',global_num,global_string,global_list,global_dict,global_boolean,global_tuple,global_set)\n",
    "local_function()\n",
    "print('\\n')\n",
    "print('After function',global_num,global_string,global_list,global_dict,global_boolean,global_tuple,global_set)\n",
    "print('Global scope',globals())"
   ]
  },
  {
   "cell_type": "code",
   "execution_count": 52,
   "metadata": {},
   "outputs": [
    {
     "name": "stdout",
     "output_type": "stream",
     "text": [
      "Global variable : 2\n",
      "Outside function : global variable 2\n",
      "Outside function : global variable  2\n"
     ]
    }
   ],
   "source": [
    "# Overriding local scope through global keyword\n",
    "init = 1 # global \n",
    "def scope():\n",
    "    global init # Access the global variable\n",
    "    init = init + 1\n",
    "    print('Global variable :', init)\n",
    "print(\"Before calling function : global variable \" , init) # global\n",
    "scope()\n",
    "print(\"Outside function : global variable \" , init) # two different objects are given as arguments to print function\n",
    "print(\"Outside function : global variable \" + str(init)) # string concatenation happens here ; so,typecasting required"
   ]
  },
  {
   "cell_type": "markdown",
   "metadata": {},
   "source": [
    "### lambda, map, filter, reduce"
   ]
  },
  {
   "cell_type": "code",
   "execution_count": null,
   "metadata": {
    "collapsed": true
   },
   "outputs": [],
   "source": [
    "\n",
    "double = lambda x: x*2\n",
    "double(5)\n",
    "\n",
    "### map - map(aFunction, aSequence)\n",
    "print(list(map(float, [1, 2, 3]))) # returns a batch\n",
    "# contrast with list comprehension :\n",
    "[print(float(item)) for item in [1,2,3]] # returns a batch but prints a list\n",
    "items = [1, 2, 3, 4, 5]\n",
    "def sqr(x): return x ** 2\n",
    "print(list(map(sqr, items)))\n",
    "\n",
    "# Use lambda function with `map()`\n",
    "mapped_list = list(map(lambda x: x*2, my_list)) # map is a faster equivalent of list comprehension\n",
    "\n",
    "# another usage of map\n",
    "def square(x):\n",
    "    return (x ** 2)\n",
    "def cube(x):\n",
    "    return (x ** 3)\n",
    "\n",
    "funcs = [square, cube]\n",
    "for r in range(5):\n",
    "    value = list(map(lambda x: x(r), funcs))\n",
    "    print(value)\n",
    "# another usage of map\n",
    "print(list(map(pow, [2, 3, 4], [10, 11, 12])))\n",
    "\n",
    "# filter\n",
    "print(list(range(-5,5)))\n",
    "print(list( filter((lambda x: x < 0), range(-5,5))))\n",
    "# contrast this way\n",
    "[print(item) for item in list(range(-5,5)) if item < 0]\n",
    "my_list = [1,2,3,4,5,6,7,8,9,10]\n",
    "filtered_list = list(filter(lambda x: (x*2 > 10), my_list))\n",
    "a = [1,2,3,5,7,9]\n",
    "b = [2,3,5,6,7,8]\n",
    "print (list(filter(lambda x: x in a, b)))\n",
    "print ([x for x in a if x in b])\n",
    "\n",
    "# reduce\n",
    "from functools import reduce\n",
    "\n",
    "# to print sum of elements\n",
    "print (\"The sum of the list elements is : \",end=\"\")\n",
    "print (functools.reduce(lambda a,b : a+b,lis))\n",
    "\n",
    "# to compute maximum element from list\n",
    "print (\"The maximum element of the list is : \",end=\"\")\n",
    "print (reduce(lambda a,b : a if a > b else b,lis))\n",
    "\n",
    "# to reduce the list to a single value by subtracting all the adjacent elemnts\n",
    "reduced_list = reduce(lambda x, y: x-y, my_list)\n",
    "print(reduced_list)\n",
    "\n",
    "# using lambda with min\n",
    "prices = {\n",
    "'ACME': 45.23,\n",
    "'AAPL': 612.78,\n",
    "'IBM': 205.55,\n",
    "'HPQ': 37.20,\n",
    "'FB': 10.75\n",
    "}\n",
    "\n",
    "print(min(prices,key=lambda x:x))\n",
    "print(min(prices,key=lambda x:prices[x]))"
   ]
  },
  {
   "cell_type": "markdown",
   "metadata": {},
   "source": [
    "### str() vs repr()"
   ]
  },
  {
   "cell_type": "code",
   "execution_count": null,
   "metadata": {
    "collapsed": true
   },
   "outputs": [],
   "source": [
    "num = 10\n",
    "message = 'hello'\n",
    "import time\n",
    "time_string = time.ctime()\n",
    "import pandas\n",
    "df = pandas.DataFrame({1:[2,3],4:[5,6]})\n",
    "def f():\n",
    "    pass\n",
    "class A:\n",
    "    pass\n",
    "import datetime\n",
    "date_string = datetime.datetime.now()\n",
    "print(num,str(num),repr(num))\n",
    "print(message,str(message),repr(message))\n",
    "print(time_string,str(time_string),repr(time_string))\n",
    "print(df,str(df),repr(df))\n",
    "print(f,str(f),repr(f))\n",
    "print(A(),str(A()),repr(A()))\n",
    "print(date_string,str(date_string),repr(date_string),type(repr(date_string)))"
   ]
  },
  {
   "cell_type": "markdown",
   "metadata": {},
   "source": [
    "### eval - to run expression within a string"
   ]
  },
  {
   "cell_type": "code",
   "execution_count": null,
   "metadata": {
    "collapsed": true
   },
   "outputs": [],
   "source": [
    "x = 10\n",
    "y = eval(input('Enter the expression to evaluate :'))\n",
    "print(y)\n",
    "import os\n",
    "print(os.getcwd())\n",
    "print(eval(\"os.getcwd()\"))"
   ]
  },
  {
   "cell_type": "markdown",
   "metadata": {},
   "source": [
    "### Generators"
   ]
  },
  {
   "cell_type": "code",
   "execution_count": null,
   "metadata": {
    "collapsed": true
   },
   "outputs": [],
   "source": [
    "# generator expressions\n",
    "primes = (i for i in range(2, 100000000000) if check_even(i)) # don't try this unless you are an embodiment of patience!!\n",
    "\n",
    "def check_even(num):\n",
    "    if num%2 == 0:\n",
    "        return True\n",
    "\n",
    "# using with aggreate functions\n",
    "sum((num for num in range(1,50) if num % 2 == 0))\n",
    "    \n",
    "# or create a generator from list object \n",
    "l1 = list(range(1,10))\n",
    "l1_iter = iter(l1) # returns an iterator object\n",
    "next(l1_iter) # get one by one\n",
    "    \n",
    "\n",
    "# file object has built-in iter\n",
    "f1 = open('file')\n",
    "f1.__next__()  # to get record by record\n",
    "\n",
    "\n",
    "# generator functions\n",
    "import glob,os\n",
    "def file_search():\n",
    "    for file in glob.glob('.\\*'):\n",
    "        if os.path.isfile(file):\n",
    "            yield file\n",
    "    \n",
    "file_search() # yields a generator object\n",
    "\n",
    "\n",
    "# class based iterators\n",
    "class Repeater:\n",
    "    def __init__(self, value):\n",
    "        self.value = value\n",
    "\n",
    "    def __iter__(self):\n",
    "        return self\n",
    "\n",
    "    def __next__(self):\n",
    "        return self.value\n",
    "\n",
    "r = Repeater('python')\n",
    "for item in r:\n",
    "    print(item)\n",
    "print(r.__iter__().__next__())\n",
    "\n",
    "numbers = 'hello'\n",
    "iterator = numbers.__iter__()\n",
    "print(iterator.__next__())\n",
    "print(iterator.__next__())\n",
    "print(iterator.__next__())\n",
    "print(iterator.__next__())\n",
    "print(iterator.__next__())"
   ]
  },
  {
   "cell_type": "markdown",
   "metadata": {},
   "source": [
    "### Function attributes"
   ]
  },
  {
   "cell_type": "code",
   "execution_count": 4,
   "metadata": {},
   "outputs": [],
   "source": [
    "def dummy():\n",
    "    print('Inside dummy')\n",
    "\n",
    "def dummy1():\n",
    "    print('Inside dummy1')"
   ]
  },
  {
   "cell_type": "code",
   "execution_count": null,
   "metadata": {
    "collapsed": true
   },
   "outputs": [],
   "source": [
    "dummy.unittest = True\n",
    "# setattr(dummy,'unittest',True)\n",
    "dummy1.unittest = False\n",
    "\n",
    "print(globals())\n",
    "if getattr(dummy,'unittest') and dummy.unittest:\n",
    "    dummy()"
   ]
  },
  {
   "cell_type": "markdown",
   "metadata": {},
   "source": [
    "### Function decorators"
   ]
  },
  {
   "cell_type": "code",
   "execution_count": null,
   "metadata": {
    "collapsed": true
   },
   "outputs": [],
   "source": [
    "### Nested functions and Closures\n",
    "\n",
    "def outer_function():\n",
    "    x = 10\n",
    "    print('Outer function :',x)\n",
    "    def inner_function():\n",
    "        nonlocal x\n",
    "        x = 20\n",
    "        print('Inner function :', x)\n",
    "    inner_function()\n",
    "    print('After modification :',x)\n",
    "outer_function()"
   ]
  },
  {
   "cell_type": "code",
   "execution_count": null,
   "metadata": {
    "collapsed": true
   },
   "outputs": [],
   "source": [
    "# A function returning another function\n",
    "\n",
    "def outer_function():\n",
    "    x = 10\n",
    "    print('Outer function :',x)\n",
    "    def inner_function():\n",
    "        nonlocal x\n",
    "        x = 20\n",
    "        print('Inner function :', x)\n",
    "    return inner_function\n",
    "\n",
    "func = outer_function()\n",
    "func()"
   ]
  },
  {
   "cell_type": "code",
   "execution_count": 1,
   "metadata": {},
   "outputs": [
    {
     "name": "stdout",
     "output_type": "stream",
     "text": [
      "<class 'type'>\n"
     ]
    }
   ],
   "source": [
    "# Passing function as an object to another function\n",
    "\n",
    "def outer_function(func):\n",
    "    x = 10\n",
    "    print('Outer function :',x)\n",
    "    def inner_function(*args):\n",
    "        if type(args[0]) != type(0):\n",
    "            print('Arguments are invalid')\n",
    "        else:\n",
    "            print(func(*args))\n",
    "    return inner_function\n",
    "\n",
    "def square(num):\n",
    "    return num * num\n",
    "\n",
    "func = outer_function(square)\n",
    "func(10)"
   ]
  },
  {
   "cell_type": "code",
   "execution_count": null,
   "metadata": {
    "collapsed": true
   },
   "outputs": [],
   "source": [
    "# A simple decorator in action!\n",
    "\n",
    "def validate_args(func):\n",
    "    def wrapper(*args):\n",
    "        print(type(args))\n",
    "        if not isinstance(args[0],int):\n",
    "            print('Arguments are invalid')\n",
    "        else:\n",
    "            print(func(*args))\n",
    "    return wrapper\n",
    "\n",
    "@validate_args\n",
    "def square(num):\n",
    "    return num * num\n",
    "\n",
    "square(10)"
   ]
  },
  {
   "cell_type": "code",
   "execution_count": null,
   "metadata": {
    "collapsed": true
   },
   "outputs": [],
   "source": [
    "# Another example of decorator\n",
    "# A function mimicking behavior of a class with user defined attributes\n",
    "\n",
    "def count_calls(func):\n",
    "    def wrapper(*args):\n",
    "        if not isinstance(args[0],int):\n",
    "            print('Arguments are invalid')\n",
    "        else:\n",
    "            print('Square of number {} is {}'.format(args[0],func(*args)))\n",
    "            wrapper.num_calls += 1\n",
    "            print('Call {} of {}'.format(wrapper.num_calls,func.__name__))\n",
    "    wrapper.num_calls = 0\n",
    "    return wrapper\n",
    "\n",
    "@count_calls\n",
    "def square(num):\n",
    "    return num * num\n",
    "\n",
    "square(10)\n",
    "square(100)\n",
    "square(34.56)\n",
    "square(2)"
   ]
  },
  {
   "cell_type": "code",
   "execution_count": 1,
   "metadata": {
    "collapsed": true
   },
   "outputs": [],
   "source": [
    "# Yet another example of decorator\n",
    "\n",
    "import time\n",
    "def log(func):\n",
    "    def wrapper(*args):\n",
    "        wrapper.num_calls += 1\n",
    "        print('Invoking the function {}'.format(func.__name__))\n",
    "        print('Arguments passed to function are {}'.format(args))\n",
    "        t1 = time.time()\n",
    "        func(*args)\n",
    "        t2 = time.time()\n",
    "        print('Function took {} seconds to execute'.format(round(t2 - t1,2)))\n",
    "    wrapper.num_calls = 0\n",
    "    return wrapper\n",
    "\n",
    "@log\n",
    "def square(num):\n",
    "    return num * num\n",
    "\n",
    "@log\n",
    "def sleep(seconds):\n",
    "    time.sleep(seconds)\n",
    "\n",
    "@log\n",
    "def operation(*args):\n",
    "    start,stop = args[0],args[1]\n",
    "    import math\n",
    "    result = [math.sqrt(item) for item in range(start,stop+1,2)]\n",
    "    print(result)\n",
    "\n",
    "square(10)\n",
    "square(100)\n",
    "square(34.56)\n",
    "square(2)\n",
    "sleep(5)\n",
    "operation(1,5000)"
   ]
  }
 ],
 "metadata": {
  "kernelspec": {
   "display_name": "Python 3",
   "language": "python",
   "name": "python3"
  },
  "language_info": {
   "codemirror_mode": {
    "name": "ipython",
    "version": 3
   },
   "file_extension": ".py",
   "mimetype": "text/x-python",
   "name": "python",
   "nbconvert_exporter": "python",
   "pygments_lexer": "ipython3",
   "version": "3.7.4"
  }
 },
 "nbformat": 4,
 "nbformat_minor": 2
}
