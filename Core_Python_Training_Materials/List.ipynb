{
 "cells": [
  {
   "cell_type": "markdown",
   "metadata": {},
   "source": [
    "## List"
   ]
  },
  {
   "cell_type": "code",
   "execution_count": null,
   "metadata": {
    "collapsed": true
   },
   "outputs": [],
   "source": [
    "# create a list from string\n",
    "L1 = list('spam')"
   ]
  },
  {
   "cell_type": "code",
   "execution_count": null,
   "metadata": {
    "collapsed": true
   },
   "outputs": [],
   "source": [
    "# or use square bracket notation\n",
    "L2 = [1,2,'3',4]"
   ]
  },
  {
   "cell_type": "code",
   "execution_count": null,
   "metadata": {
    "collapsed": true
   },
   "outputs": [],
   "source": [
    "# or the more popular range function\n",
    "L3 = list(range(0,10))"
   ]
  },
  {
   "cell_type": "markdown",
   "metadata": {},
   "source": [
    "## Sequence operations"
   ]
  },
  {
   "cell_type": "code",
   "execution_count": null,
   "metadata": {
    "collapsed": true
   },
   "outputs": [],
   "source": [
    "# indexing\n",
    "L1[0], L1[-1]"
   ]
  },
  {
   "cell_type": "code",
   "execution_count": null,
   "metadata": {
    "collapsed": true
   },
   "outputs": [],
   "source": [
    "#slicing \n",
    "L1[0:2], L1[:]"
   ]
  },
  {
   "cell_type": "code",
   "execution_count": null,
   "metadata": {
    "collapsed": true
   },
   "outputs": [],
   "source": [
    "# concatenation\n",
    "L2 + L3"
   ]
  },
  {
   "cell_type": "code",
   "execution_count": null,
   "metadata": {
    "collapsed": true
   },
   "outputs": [],
   "source": [
    "L3 + L2 "
   ]
  },
  {
   "cell_type": "code",
   "execution_count": null,
   "metadata": {
    "collapsed": true
   },
   "outputs": [],
   "source": [
    "# repetition\n",
    "L1 * 3"
   ]
  },
  {
   "cell_type": "code",
   "execution_count": null,
   "metadata": {
    "collapsed": true
   },
   "outputs": [],
   "source": [
    "# membership test\n",
    "'s' in L1"
   ]
  },
  {
   "cell_type": "markdown",
   "metadata": {},
   "source": [
    "## Object specific attributes"
   ]
  },
  {
   "cell_type": "code",
   "execution_count": null,
   "metadata": {
    "collapsed": true
   },
   "outputs": [],
   "source": [
    "print(dir(L1))"
   ]
  },
  {
   "cell_type": "code",
   "execution_count": null,
   "metadata": {
    "collapsed": true
   },
   "outputs": [],
   "source": [
    "# append adds an elements to the right end of a list\n",
    "L1.append('s')"
   ]
  },
  {
   "cell_type": "code",
   "execution_count": null,
   "metadata": {
    "collapsed": true
   },
   "outputs": [],
   "source": [
    "# insert adds an element at the specified index\n",
    "L1.insert(2,'5')"
   ]
  },
  {
   "cell_type": "code",
   "execution_count": null,
   "metadata": {
    "collapsed": true
   },
   "outputs": [],
   "source": [
    "# extend adds an iterable at last - can be a string,list or tuple\n",
    "L1.extend([4,5,6,7])"
   ]
  },
  {
   "cell_type": "code",
   "execution_count": null,
   "metadata": {
    "collapsed": true
   },
   "outputs": [],
   "source": [
    "# clear removes all elements of list, doesn't take any argument\n",
    "L1.clear()"
   ]
  },
  {
   "cell_type": "code",
   "execution_count": null,
   "metadata": {
    "collapsed": true
   },
   "outputs": [],
   "source": [
    "# or copy just a reference - modifying the original list also modifies the reference\n",
    "L2_copy_ref = L2"
   ]
  },
  {
   "cell_type": "code",
   "execution_count": null,
   "metadata": {
    "collapsed": true
   },
   "outputs": [],
   "source": [
    "# copy copies the elements - not the reference\n",
    "L2_copy = L2.copy()"
   ]
  },
  {
   "cell_type": "code",
   "execution_count": null,
   "metadata": {
    "collapsed": true
   },
   "outputs": [],
   "source": [
    "# find frequency of an element\n",
    "L2.count('s')"
   ]
  },
  {
   "cell_type": "code",
   "execution_count": null,
   "metadata": {
    "collapsed": true
   },
   "outputs": [],
   "source": [
    "# you can give only single element\n",
    "L2.insert(L2.index(2),5)"
   ]
  },
  {
   "cell_type": "code",
   "execution_count": null,
   "metadata": {
    "collapsed": true
   },
   "outputs": [],
   "source": [
    "# pop removes an element from a list by specifying an index, returns the deleted element\n",
    "L2.pop(2)"
   ]
  },
  {
   "cell_type": "code",
   "execution_count": null,
   "metadata": {
    "collapsed": true
   },
   "outputs": [],
   "source": [
    "# remove removes an element by value , returns None\n",
    "# don't try while iterating in a for loop - instead, get the filtered items using list comprehension\n",
    "L2.remove(5)"
   ]
  },
  {
   "cell_type": "code",
   "execution_count": null,
   "metadata": {
    "collapsed": true
   },
   "outputs": [],
   "source": [
    "# does a full rotate of the list, returns None\n",
    "L2.reverse()"
   ]
  },
  {
   "cell_type": "code",
   "execution_count": null,
   "metadata": {
    "collapsed": true
   },
   "outputs": [],
   "source": [
    "# sort sorts the elements by ascending order\n",
    "# custom sorting is possible using key argument\n",
    "L2.sort()\n",
    "# descending order\n",
    "L2.sort(reverse=True)"
   ]
  },
  {
   "cell_type": "markdown",
   "metadata": {},
   "source": [
    "#### zip utility"
   ]
  },
  {
   "cell_type": "code",
   "execution_count": null,
   "metadata": {
    "collapsed": true
   },
   "outputs": [],
   "source": [
    "stocks = ['ACME', 'AAPL', 'IBM', 'HPQ', 'FB']\n",
    "stock_prices = [45.23, 612.78, 205.55, 37.2, 10.75]\n",
    "\n",
    "# produce a list of values\n",
    "zip_obj = zip(stocks,stock_prices)\n",
    "\n",
    "# zip object CAN BE CONSUMED ONLY ONCE\n",
    "min(zip_obj)\n",
    "min(zip_obj) # results in an error"
   ]
  },
  {
   "cell_type": "markdown",
   "metadata": {},
   "source": [
    "#### List comprehension"
   ]
  },
  {
   "cell_type": "code",
   "execution_count": null,
   "metadata": {
    "collapsed": true
   },
   "outputs": [],
   "source": [
    "l1 = list(range(10))\n",
    "l1 = [x * 2 for x in l1]\n",
    "l1 = [x * 2 for x in l1 if x > 5] # if filter\n",
    "matrix = [[0,1],[1,2],[3,4]]# matrix ; matrix[0][1]"
   ]
  },
  {
   "cell_type": "code",
   "execution_count": null,
   "metadata": {
    "collapsed": true
   },
   "outputs": [],
   "source": [
    "# use built-in fucntions\n",
    "# Type casting : \n",
    "tuple(l1) , set(l1)\n",
    "# aggregation functions\n",
    "sum(l1),min(l1),max(l1)"
   ]
  },
  {
   "cell_type": "code",
   "execution_count": 32,
   "metadata": {},
   "outputs": [
    {
     "data": {
      "text/plain": [
       "0"
      ]
     },
     "execution_count": 32,
     "metadata": {},
     "output_type": "execute_result"
    }
   ],
   "source": [
    "# sorted\n",
    "l1 = list('the quick brown fox')\n",
    "sorted(l1,reverse=True) # gives a new iterable\n",
    "# sorted just needs an iterable - it can be a list,tuple or a string\n",
    "sorted('hello world',reverse=True)\n",
    "\n",
    "# reversed - equivalent of L1.reverse()\n",
    "list(reversed(l1)) \n",
    "\n",
    "# all - if all elements returns True\n",
    "l1 = [1, 3, 4, 5]\n",
    "all(l1) # one false value would yield False\n",
    "l1 = ['the','melanin','hormone']\n",
    "all(['e' in x for x in l1])\n",
    "\n",
    "# any - if any one of elements returns True\n",
    "l1 = ()\n",
    "any(l1)\n",
    "l1 = (1,2,False)\n",
    "any(l1)"
   ]
  },
  {
   "cell_type": "markdown",
   "metadata": {},
   "source": [
    "### deque - a double-ended list"
   ]
  },
  {
   "cell_type": "code",
   "execution_count": null,
   "metadata": {
    "collapsed": true
   },
   "outputs": [],
   "source": [
    "# deque - double ended queue\n",
    "from collections import deque\n",
    "d = deque('ghi')                 # make a new deque with three items\n",
    "for elem in d:                   # iterate over the deque's elements\n",
    "    print (elem.upper())\n",
    "d.append('j')                    # add a new entry to the right side\n",
    "d.appendleft('f')                # add a new entry to the left side\n",
    "d.pop()                         # return and remove the rightmost item\n",
    "d.popleft()                      # return and remove the leftmost item\n",
    "list(d)                          # list the contents of the deque\n",
    "d[0]                             # peek at leftmost item\n",
    "d[-1]                            # peek at rightmost item\n",
    "list(reversed(d))                # list the contents of a deque in reverse\n",
    "'h' in d                         # search the deque\n",
    "d.extend('jkl')                  # add multiple elements at once\n",
    "d.extendleft('abc')              # extendleft() reverses the input order\n",
    "d.rotate(1)                      # right rotation\n",
    "d.rotate(-1)                     # left rotation\n",
    "deque(reversed(d))               # make a new deque in reverse order\n",
    "d.clear()                        # empty the deque\n",
    "d.pop()                          # cannot pop from an empty deque\n",
    "\n",
    "# creating a fixed-size queue\n",
    "l1 = list(range(1,10))\n",
    "# Using deque(maxlen=N) creates a fixed-sized queue. When new items are added and\n",
    "# the queue is full, the oldest item is automatically removed\n",
    "d = deque(l1,maxlen=5)"
   ]
  },
  {
   "cell_type": "markdown",
   "metadata": {},
   "source": [
    "### array - creating a HOMOGENOUS list"
   ]
  },
  {
   "cell_type": "code",
   "execution_count": null,
   "metadata": {
    "collapsed": true
   },
   "outputs": [],
   "source": [
    "a = array.array('f', [1, 2, 3, 4, 5,])\n",
    "\n",
    "#https://docs.python.org/3/library/array.html"
   ]
  },
  {
   "cell_type": "code",
   "execution_count": null,
   "metadata": {
    "collapsed": true
   },
   "outputs": [],
   "source": [
    "############### in-class exercise : compute Mean,Median of a sample set #################\n",
    "score = '1.90 3.00 2.53 3.71 2.12 1.76 2.71 1.39 4.00 3.33 3.33 3.33 5.23 5.23'\n",
    "scores = score.split(' ')\n",
    "scores_float = []\n",
    "for element in scores:\n",
    "#     print(element)\n",
    "    scores_float.append(float(element))\n",
    "middle_index = int(len(scores)/2)\n",
    "\n",
    "if len(scores_float) % 2 == 0:\n",
    "    print('Inside If')\n",
    "    Median = (scores_float[middle_index] + scores_float[middle_index-1]) / 2\n",
    "else:\n",
    "    print('Inside else')\n",
    "    Median = scores_float[middle_index]\n",
    "print(Median)\n",
    "\n",
    "# dynamically get the values\n",
    "scores_float = []\n",
    "while True:\n",
    "    element = input('Enter the score:')\n",
    "    if element == 'stop':\n",
    "        break\n",
    "    scores_float.append(float(element))\n",
    "print(scores_float)\n"
   ]
  },
  {
   "cell_type": "code",
   "execution_count": null,
   "metadata": {
    "collapsed": true
   },
   "outputs": [],
   "source": [
    "########## in-class exercise : parse employees file and filter the records #############\n",
    "import os\n",
    "# getcwd() returns the current working directory\n",
    "employees = open(os.getcwd()+'\\\\Training_Notes\\\\'+'employees.txt')\n",
    "# readlines returns as a list\n",
    "emp_list = employees.readlines()\n",
    "emp_list = [item.strip() for item in emp_list]\n",
    "year_of_joining = input('Enter the year of joining :')\n",
    "\n",
    "# solution 1 - using list comprehension & split\n",
    "print( [item for item in emp_list[1:] if item.split(',')[-1].split('/')[-1] == year_of_joining ] )\n",
    "\n",
    "# solution 2 - using tradition for loop\n",
    "for item in emp_list[1:]:\n",
    "    if (item.find(year_of_joining) != -1):\n",
    "        print(item)\n",
    "# solution 3 - using list comprehension & find method\n",
    "print([item for item in emp_list[1:] if (item.find(year_of_joining) != -1)])"
   ]
  },
  {
   "cell_type": "markdown",
   "metadata": {},
   "source": [
    "### aadhar exercise - to be revisited after covering Files"
   ]
  },
  {
   "cell_type": "code",
   "execution_count": null,
   "metadata": {
    "collapsed": true
   },
   "outputs": [],
   "source": [
    "path = r'D:\\PyCharmProjects\\Input data'\n",
    "aadhar = open(path+'\\\\'+'aadhar.txt')\n",
    "# name = input('Enter the name :')\n",
    "is_match = False\n",
    "name_match_cntr = 0\n",
    "aadhar_ids = []\n",
    "aadhar_records = aadhar.readlines()\n",
    "aadhar_records = [item.strip() for item in aadhar_records[1:]]\n",
    "for record in aadhar_records:\n",
    "    year_of_birth = record.split(',')[-1]\n",
    "    print(int(year_of_birth[0:2]) + 1,'th century')\n",
    "    # print(record)\n",
    "    # aadhar_id, aadhar_name = record.split(',')[0:2]\n",
    "    # print(aadhar_id,aadhar_name)\n",
    "    '''\n",
    "    if name == aadhar_name:\n",
    "        name_match_cntr = name_match_cntr + 1\n",
    "        aadhar_ids.append(aadhar_id)\n",
    "        # print('Name',aadhar_name,'matches','and corresponding id is',aadhar_id)\n",
    "        is_match = True\n",
    "    '''\n",
    "    # print(aadhar_records.count(record))\n",
    "    if aadhar_records.count(record) > 1:\n",
    "        print('record',record,'is duplicate','and the frequency is',aadhar_records.count(record))\n",
    "\n",
    "if(is_match):\n",
    "    print('There are', name_match_cntr, 'records ',end='')\n",
    "    # print('and the name matched is',name,'and the ids are',','.join(aadhar_ids))\n",
    "else :\n",
    "    print('Name does not match')\n",
    "\n",
    "\n",
    "\n",
    "# there are 3 records and the correspondng details are n1, id1 , n2,id2 , n3,id3"
   ]
  },
  {
   "cell_type": "code",
   "execution_count": null,
   "metadata": {
    "collapsed": true
   },
   "outputs": [],
   "source": []
  }
 ],
 "metadata": {
  "kernelspec": {
   "display_name": "Python 3",
   "language": "python",
   "name": "python3"
  },
  "language_info": {
   "codemirror_mode": {
    "name": "ipython",
    "version": 3
   },
   "file_extension": ".py",
   "mimetype": "text/x-python",
   "name": "python",
   "nbconvert_exporter": "python",
   "pygments_lexer": "ipython3",
   "version": "3.6.3"
  }
 },
 "nbformat": 4,
 "nbformat_minor": 2
}
