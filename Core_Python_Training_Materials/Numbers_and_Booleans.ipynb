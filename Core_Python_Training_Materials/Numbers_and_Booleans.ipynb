{
 "cells": [
  {
   "cell_type": "markdown",
   "metadata": {},
   "source": [
    "# Numbers"
   ]
  },
  {
   "cell_type": "code",
   "execution_count": null,
   "metadata": {
    "collapsed": true
   },
   "outputs": [],
   "source": [
    "# types of numbers\n",
    "int_num = 10 # integer \n",
    "float_num = 10.2 # float\n",
    "complex_num = 1 + 2j # complex number\n",
    "\n",
    "# using typecasting functions\n",
    "complex(2), complex(2.5)\n",
    "bin(2),oct(2),hex(2)\n",
    "\n",
    "# chained assignments\n",
    "sum_value,div,powerOf,remainder,floorDiv = 12 + 100, 12 / 100, 2 ** 10, 15 % 4, 15 // 4\n",
    "# infinite value as a number\n",
    "print (2/float('inf'))"
   ]
  },
  {
   "cell_type": "code",
   "execution_count": 17,
   "metadata": {},
   "outputs": [
    {
     "name": "stdout",
     "output_type": "stream",
     "text": [
      "False\n",
      "1.0 2.0 (1-2j)\n"
     ]
    }
   ],
   "source": [
    "# object attributes\n",
    "print(float_num.is_integer())\n",
    "print(complex_num.real,complex_num.imag,complex_num.conjugate())"
   ]
  },
  {
   "cell_type": "code",
   "execution_count": 76,
   "metadata": {},
   "outputs": [
    {
     "name": "stdout",
     "output_type": "stream",
     "text": [
      "3.142857142857142857142857143 <class 'decimal.Decimal'>\n",
      "3.142857142857143 <class 'float'>\n",
      "False\n",
      "5.551115123125783e-17\n",
      "0.0\n",
      "7/12\n",
      "0.5833333333333333\n"
     ]
    }
   ],
   "source": [
    "# creating a true decimal object using decimal module\n",
    "import decimal\n",
    "decimal_div = decimal.Decimal('22') / decimal.Decimal('7')\n",
    "print(decimal_div,\n",
    "     type(decimal_div))\n",
    "# contrast this \n",
    "print(22/7, type(22/7))\n",
    "print((decimal.Decimal('22') + decimal.Decimal('7')) == 22/7)\n",
    "\n",
    "print(0.1+0.1+0.1-0.3)\n",
    "# true decimal subtraction\n",
    "decimal_add = decimal.Decimal('0.1') + decimal.Decimal('0.1') +  decimal.Decimal('0.1') - decimal.Decimal('0.3')\n",
    "print(decimal_add)\n",
    "\n",
    "from fractions import Fraction\n",
    "print (Fraction(1,3)+Fraction(1,4))\n",
    "print (1/3 + 1/4)"
   ]
  },
  {
   "cell_type": "code",
   "execution_count": 60,
   "metadata": {},
   "outputs": [
    {
     "name": "stdout",
     "output_type": "stream",
     "text": [
      "16 42 1 4 33.5\n",
      "3.141592653589793 3.0 3 2\n",
      "2\n",
      "49\n"
     ]
    }
   ],
   "source": [
    "# built-in functions\n",
    "print(  pow(2,4),\n",
    "        abs(-42),\n",
    "        min(3,1,2,4),\n",
    "        max(3,2,2,4),\n",
    "        round(33.49,1)\n",
    "     )\n",
    "quotient,remainder = divmod(10,3)\n",
    "# using math module\n",
    "import math\n",
    "print ( math.pi,\n",
    "        math.sqrt(9),\n",
    "        math.ceil(2.2),\n",
    "        math.floor(2.3))\n",
    "# using random module\n",
    "import random\n",
    "print(random.choice([1,2,3,4]))\n",
    "print(random.randrange(1,200))"
   ]
  },
  {
   "cell_type": "code",
   "execution_count": 4,
   "metadata": {},
   "outputs": [
    {
     "data": {
      "text/plain": [
       "(1479827904, 1479827904, 1479827904)"
      ]
     },
     "execution_count": 4,
     "metadata": {},
     "output_type": "execute_result"
    }
   ],
   "source": [
    "# shared references to an object\n",
    "a = 10\n",
    "b = 10\n",
    "id(10),id(a),id(b) # get unique id of an object"
   ]
  },
  {
   "cell_type": "markdown",
   "metadata": {},
   "source": [
    "# Booleans"
   ]
  },
  {
   "cell_type": "code",
   "execution_count": null,
   "metadata": {
    "collapsed": true
   },
   "outputs": [],
   "source": [
    "# comparision operators\n",
    "x=10\n",
    "y= 12\n",
    "print('x > y  is',x>y)\n",
    "print('x < y  is',x<y)\n",
    "print('x == y is',x==y)\n",
    "print('x != y is',x!=y)\n",
    "print('x >= y is',x>=y)\n",
    "print('x <= y is',x<=y)\n",
    "\n",
    "# logical operators - and,or,not\n",
    "print(x==10 and y==20)\n",
    "print(x==10 or y==20)\n",
    "print(not x==10)\n",
    "\n",
    "# boolean is implemented as integers in Python : True as 1, False as 0\n",
    "print(\n",
    "      type(True),\n",
    "      True + 5,\n",
    "      isinstance(True,int),\n",
    "      True == 1,\n",
    "      True is 1\n",
    "     )"
   ]
  },
  {
   "cell_type": "code",
   "execution_count": null,
   "metadata": {
    "collapsed": true
   },
   "outputs": [],
   "source": [
    "# bool\n",
    "s1 = 'False'\n",
    "bool(s1) # doesn't convert 'False' string to False\n",
    "l1 = ()\n",
    "bool(l1) # returns False"
   ]
  },
  {
   "cell_type": "code",
   "execution_count": 20,
   "metadata": {
    "collapsed": true
   },
   "outputs": [],
   "source": [
    "s1 = True and False"
   ]
  },
  {
   "cell_type": "code",
   "execution_count": 21,
   "metadata": {},
   "outputs": [
    {
     "data": {
      "text/plain": [
       "False"
      ]
     },
     "execution_count": 21,
     "metadata": {},
     "output_type": "execute_result"
    }
   ],
   "source": [
    "bool(s1)"
   ]
  },
  {
   "cell_type": "code",
   "execution_count": 13,
   "metadata": {
    "collapsed": true
   },
   "outputs": [],
   "source": [
    "l1 = ()"
   ]
  },
  {
   "cell_type": "code",
   "execution_count": 14,
   "metadata": {},
   "outputs": [
    {
     "data": {
      "text/plain": [
       "False"
      ]
     },
     "execution_count": 14,
     "metadata": {},
     "output_type": "execute_result"
    }
   ],
   "source": [
    "bool(l1)"
   ]
  },
  {
   "cell_type": "code",
   "execution_count": 22,
   "metadata": {},
   "outputs": [
    {
     "data": {
      "text/plain": [
       "()"
      ]
     },
     "execution_count": 22,
     "metadata": {},
     "output_type": "execute_result"
    }
   ],
   "source": [
    "l1"
   ]
  },
  {
   "cell_type": "code",
   "execution_count": 24,
   "metadata": {},
   "outputs": [
    {
     "name": "stdout",
     "output_type": "stream",
     "text": [
      "empty\n"
     ]
    }
   ],
   "source": [
    "if len(l1) > 0:\n",
    "    print('has value')\n",
    "else:\n",
    "    print('empty')"
   ]
  },
  {
   "cell_type": "code",
   "execution_count": null,
   "metadata": {
    "collapsed": true
   },
   "outputs": [],
   "source": []
  }
 ],
 "metadata": {
  "kernelspec": {
   "display_name": "Python 3",
   "language": "python",
   "name": "python3"
  },
  "language_info": {
   "codemirror_mode": {
    "name": "ipython",
    "version": 3
   },
   "file_extension": ".py",
   "mimetype": "text/x-python",
   "name": "python",
   "nbconvert_exporter": "python",
   "pygments_lexer": "ipython3",
   "version": "3.6.3"
  }
 },
 "nbformat": 4,
 "nbformat_minor": 2
}
