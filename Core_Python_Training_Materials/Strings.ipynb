{
 "cells": [
  {
   "cell_type": "code",
   "execution_count": null,
   "metadata": {
    "collapsed": true
   },
   "outputs": [],
   "source": [
    "s1 = 'Hello World' \n",
    "s2 = \"hello world\"\n",
    "print(id(s1),id(s2))"
   ]
  },
  {
   "cell_type": "code",
   "execution_count": null,
   "metadata": {
    "collapsed": true
   },
   "outputs": [],
   "source": [
    "s2 = r'This string has \\'\\*&*($%#)\"double-quotes'\n",
    "s2_unicode = u'This string has \\'\\*&*($%#)\"double-quotes'"
   ]
  },
  {
   "cell_type": "code",
   "execution_count": null,
   "metadata": {
    "collapsed": true
   },
   "outputs": [],
   "source": [
    "s3 = \"\"\" This is a multi line\n",
    "string\"\"\""
   ]
  },
  {
   "cell_type": "markdown",
   "metadata": {},
   "source": [
    "# Sequence operations"
   ]
  },
  {
   "cell_type": "code",
   "execution_count": null,
   "metadata": {
    "collapsed": true
   },
   "outputs": [],
   "source": [
    "# indexing\n",
    "s1[0],   s1[-1] \n",
    "s1[1000] "
   ]
  },
  {
   "cell_type": "code",
   "execution_count": null,
   "metadata": {
    "collapsed": true
   },
   "outputs": [],
   "source": [
    "#slicing\n",
    "s1[5:7], s1[:], s1[1:] \n",
    "\n",
    "# or use slice function\n",
    "record = '....................100 .......513.25 ..........'\n",
    "SHARES = slice(20,32)\n",
    "PRICE = slice(40,48)\n",
    "cost = int(record[SHARES]) * float(record[PRICE])"
   ]
  },
  {
   "cell_type": "code",
   "execution_count": null,
   "metadata": {
    "collapsed": true
   },
   "outputs": [],
   "source": [
    "s1[0:3] + s2[4:7] # concatenation"
   ]
  },
  {
   "cell_type": "code",
   "execution_count": null,
   "metadata": {
    "collapsed": true
   },
   "outputs": [],
   "source": [
    "s1 * 8, s1 * len(s1) # repetition"
   ]
  },
  {
   "cell_type": "code",
   "execution_count": null,
   "metadata": {
    "collapsed": true
   },
   "outputs": [],
   "source": [
    "'H' in s1, 'Hello' not in s1 # membership test"
   ]
  },
  {
   "cell_type": "code",
   "execution_count": null,
   "metadata": {
    "collapsed": true
   },
   "outputs": [],
   "source": [
    "# use built-in functions\n",
    "len(s1), dir(s1), list(s1), ''.join(list(s1))"
   ]
  },
  {
   "cell_type": "code",
   "execution_count": null,
   "metadata": {
    "collapsed": true
   },
   "outputs": [],
   "source": [
    "# object specific attributes\n",
    "s1.isalpha(), \n",
    "s1.capitalize(), \n",
    "s1.lower(), \n",
    "s1.upper(), \n",
    "s1.islower(), \n",
    "s1.isupper(), \n",
    "s1.isnumeric(), \n",
    "s1.isspace(), \n",
    "s1.center(20,'0'),\n",
    "s1.count('H'),\n",
    "s1.index('Wo'), # returns an exception if substring not found \n",
    "s1.find('G'), # returns -1 if substring not found\n",
    "s1.replace('He','he'),\n",
    "s1.split(' '),\n",
    "s1.rstrip(), s1.lstrip(), s1.strip()"
   ]
  },
  {
   "cell_type": "code",
   "execution_count": null,
   "metadata": {
    "collapsed": true
   },
   "outputs": [],
   "source": [
    "# or you can combine operations\n",
    "s1.rstrip().split(' ')"
   ]
  },
  {
   "cell_type": "code",
   "execution_count": null,
   "metadata": {
    "collapsed": true
   },
   "outputs": [],
   "source": [
    "# comparing values\n",
    "s1.find('Wo')\n",
    "s1 == 'Hello'\n",
    "\n",
    "s2 = ''.join(list('Hello World'))\n",
    "s1 == s2\n",
    "s1 is s2"
   ]
  },
  {
   "cell_type": "code",
   "execution_count": null,
   "metadata": {
    "collapsed": true
   },
   "outputs": [],
   "source": [
    "# to format your string with a specified indent width\n",
    "import textwrap\n",
    "s = \"\"\"\"\"\"\n",
    "\n",
    "print(textwrap.fill(s,30))\n",
    "print(textwrap.fill(s,30,initial_indent='   '))\n",
    "print(textwrap.fill(s,30,subsequent_indent='   '))"
   ]
  },
  {
   "cell_type": "code",
   "execution_count": null,
   "metadata": {
    "collapsed": true
   },
   "outputs": [],
   "source": [
    "# format function to format numbers,strings\n",
    "\n",
    "x = 10\n",
    "format(-x,'d')\n",
    "print(format('hello','0^20s'))\n",
    "import math\n",
    "print(format(math.pi,'0^20f'))\n",
    "print(format(int(math.pi),'0^20d'))\n",
    "format(math.pi,'e')\n",
    "format(math.pi,'0.3e')\n",
    "\n",
    "# covert to binary\n",
    "format(x,'b')\n",
    "format(x,'x')\n",
    "format(x,'o')"
   ]
  },
  {
   "cell_type": "code",
   "execution_count": null,
   "metadata": {
    "collapsed": true
   },
   "outputs": [],
   "source": [
    "# or use string specific format attribute with formatting specifiers\n",
    "basic = 10234\n",
    "special_alw = 20234\n",
    "# print(\"Current time is {0:2.2f} {1:2.3f}\".format(basic,special_alw))\n",
    "print(\"Current time is {arg1:2.2f} {arg2:2.3f}\".format(arg1=basic,arg2=special_alw))"
   ]
  },
  {
   "cell_type": "code",
   "execution_count": null,
   "metadata": {
    "collapsed": true
   },
   "outputs": [],
   "source": [
    "# format by positional variables\n",
    "print(\"The salary of {empid} is {salary}\".format(empid=101,salary=101.00))\n",
    "\n",
    "# show integers as float values\n",
    "print(\"The number is:{:f}\".format(123))\n",
    "\n",
    "# float arguments\n",
    "print(\"The float number is:{:f}\".format(123.4567898))\n",
    "print(\"Sammy ate {0:.0f} percent of a pizza!\".format(75.765367))\n",
    "print(\"Sammy ate {0:f} percent of a {1}!\".format(75, \"pizza\"))\n",
    "# or if decimals needs to be truncated\n",
    "print(\"The float number is:{:.2f}\".format(123.4567898))\n",
    "# show the + sign for positive numbers\n",
    "print(\"{0:+f} {1:+f}\".format(12.23, -12.23))\n",
    "# show space for + sign\n",
    "print(\"{: f} {: f}\".format(12.23, -12.23))\n",
    "# round off decimals\n",
    "import math\n",
    "decimals=3\n",
    "number=math.pi\n",
    "print('{0:.{1}f}'.format(number,decimals))\n",
    "\n",
    "# octal, binary and hexadecimal format\n",
    "print(\"bin: {0:b}, oct: {0:o}, hex: {0:x}\".format(12))\n",
    "# or format multiple arguments\n",
    "print(\"bin: {0:b}, oct: {1:o}, hex: {0:x}\".format(12,34))\n",
    "\n",
    "# string padding with left alignment\n",
    "print(\"{:<5}\".format(\"cat\"))\n",
    "\n",
    "# string padding with right alignment\n",
    "print(\"{:>5}\".format(\"cat\"))\n",
    "\n",
    "# string padding with center alignment\n",
    "print(\"{:^5}\".format(\"cat\"))\n",
    "\n",
    "# string padding with center alignment\n",
    "# and '*' padding character\n",
    "print(\"{:*^5}\".format(\"cat\"))\n",
    "print(\"{:0<5}\".format(123))"
   ]
  },
  {
   "cell_type": "code",
   "execution_count": null,
   "metadata": {
    "collapsed": true
   },
   "outputs": [],
   "source": [
    "# integer numbers with minimum width\n",
    "print(\"{:5d}\".format(12))\n",
    "\n",
    "# width doesn't work for numbers longer than padding\n",
    "print(\"{:2d}\".format(1234))\n",
    "\n",
    "# padding for float numbers\n",
    "print(\"{:8.3f}\".format(12.2346))\n",
    "print(\"{:08.3f}\".format(12.2346))\n",
    "\n",
    "# integer numbers with minimum width filled with zeros\n",
    "print(\"{:05d}\".format(12))\n",
    "\n",
    "# padding for float numbers filled with zeros\n",
    "print(\"{:08.3f}\".format(12.2346))\n",
    "\n",
    "# display numbers with right padding\n",
    "for i in range(3,13):\n",
    "    print(\"{:3d} {:4d} {:5d}\".format(i, i*i, i*i*i))"
   ]
  },
  {
   "cell_type": "code",
   "execution_count": null,
   "metadata": {
    "collapsed": true
   },
   "outputs": [],
   "source": [
    "# interactive input\n",
    "s4 = input('hello:')"
   ]
  },
  {
   "cell_type": "code",
   "execution_count": null,
   "metadata": {
    "collapsed": true
   },
   "outputs": [],
   "source": [
    "# eval\n",
    "eval('2%1') # to evaluate a string"
   ]
  },
  {
   "cell_type": "code",
   "execution_count": null,
   "metadata": {
    "collapsed": true
   },
   "outputs": [],
   "source": [
    "# ord and chr are complementary functions\n",
    "ord('A') > ord('a')\n",
    "chr(1001)"
   ]
  },
  {
   "cell_type": "markdown",
   "metadata": {},
   "source": [
    "### byte strings"
   ]
  },
  {
   "cell_type": "code",
   "execution_count": 2,
   "metadata": {
    "collapsed": true
   },
   "outputs": [],
   "source": [
    "unicode_string_1 = 'El niño come camarón'\n",
    "byte_string_1 = unicode_string.encode('utf-8')\n",
    "\n",
    "byte_string_2 = b'\\xd8\\xe1\\xb7\\xeb\\xa8\\xe5 \\xd2\\xb7\\xe1'\n",
    "unicode_string_2 = byte_string_2.decode('cp855')  # utf-8 won't work"
   ]
  }
 ],
 "metadata": {
  "kernelspec": {
   "display_name": "Python 3",
   "language": "python",
   "name": "python3"
  },
  "language_info": {
   "codemirror_mode": {
    "name": "ipython",
    "version": 3
   },
   "file_extension": ".py",
   "mimetype": "text/x-python",
   "name": "python",
   "nbconvert_exporter": "python",
   "pygments_lexer": "ipython3",
   "version": "3.7.3"
  }
 },
 "nbformat": 4,
 "nbformat_minor": 2
}
